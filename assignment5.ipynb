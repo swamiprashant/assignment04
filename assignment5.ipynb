{
 "cells": [
  {
   "cell_type": "code",
   "execution_count": 1,
   "id": "518bbeaa-0972-408d-953c-8139b1ad5b64",
   "metadata": {},
   "outputs": [],
   "source": [
    "# Write a program to print numbers from 1 to 10, but stop if the number is 5."
   ]
  },
  {
   "cell_type": "code",
   "execution_count": 2,
   "id": "6349a581-6f5f-475e-a692-810131457ad0",
   "metadata": {},
   "outputs": [
    {
     "name": "stdout",
     "output_type": "stream",
     "text": [
      "0\n",
      "1\n",
      "2\n",
      "3\n",
      "4\n"
     ]
    }
   ],
   "source": [
    "for i in range(0, 10):\n",
    "  if i == 5:\n",
    "    break\n",
    "  print(i)"
   ]
  },
  {
   "cell_type": "code",
   "execution_count": 3,
   "id": "4d9e377c-b45c-4cef-8440-fd9687c44e2b",
   "metadata": {},
   "outputs": [],
   "source": [
    "# Write a program to skip printing even numbers from 1 to 10."
   ]
  },
  {
   "cell_type": "code",
   "execution_count": 4,
   "id": "ae49c9b4-f9d5-4ba2-992f-6b85baa5fef2",
   "metadata": {},
   "outputs": [
    {
     "name": "stdout",
     "output_type": "stream",
     "text": [
      "1\n",
      "3\n",
      "5\n",
      "7\n",
      "9\n"
     ]
    }
   ],
   "source": [
    "for i in range(1, 10):\n",
    "  if i % 2 == 0:\n",
    "    continue\n",
    "  print(i)"
   ]
  },
  {
   "cell_type": "code",
   "execution_count": null,
   "id": "51f30505-c312-41de-9ecf-156c55bb14aa",
   "metadata": {},
   "outputs": [],
   "source": [
    "# Write a program to print numbers from 0 to 9 using range()."
   ]
  },
  {
   "cell_type": "code",
   "execution_count": null,
   "id": "81c35006-a6ce-45d7-af22-1069bea53194",
   "metadata": {},
   "outputs": [],
   "source": [
    "range_1 = 0\n",
    "for i in range(0, 9):\n",
    "  range_1 = range_1 + 1\n",
    "  print(range_1)"
   ]
  },
  {
   "cell_type": "code",
   "execution_count": null,
   "id": "4e61ebe5-eb3d-4beb-bd9c-614166669990",
   "metadata": {},
   "outputs": [],
   "source": []
  }
 ],
 "metadata": {
  "kernelspec": {
   "display_name": "Python 3 (ipykernel)",
   "language": "python",
   "name": "python3"
  },
  "language_info": {
   "codemirror_mode": {
    "name": "ipython",
    "version": 3
   },
   "file_extension": ".py",
   "mimetype": "text/x-python",
   "name": "python",
   "nbconvert_exporter": "python",
   "pygments_lexer": "ipython3",
   "version": "3.10.8"
  }
 },
 "nbformat": 4,
 "nbformat_minor": 5
}
